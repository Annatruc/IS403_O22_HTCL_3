{
  "cells": [
    {
      "cell_type": "code",
      "execution_count": null,
      "id": "ef4cef77-a65f-4bd8-8f08-93cdddf35353",
      "metadata": {
        "id": "ef4cef77-a65f-4bd8-8f08-93cdddf35353"
      },
      "outputs": [],
      "source": [
        "import numpy as np\n",
        "import pandas as pd\n",
        "import matplotlib.pyplot as plt\n",
        "from sklearn.preprocessing import MinMaxScaler\n",
        "from sklearn.metrics import mean_squared_error\n",
        "from keras.models import Sequential\n",
        "from keras.layers import GRU, Dense"
      ]
    },
    {
      "cell_type": "code",
      "execution_count": null,
      "id": "5dba5197-c1a1-49e4-b5e0-51bb1e74a3cf",
      "metadata": {
        "colab": {
          "base_uri": "https://localhost:8080/"
        },
        "id": "5dba5197-c1a1-49e4-b5e0-51bb1e74a3cf",
        "outputId": "743fc8c1-a74e-4c95-c1f2-828ffef46781"
      },
      "outputs": [
        {
          "output_type": "stream",
          "name": "stdout",
          "text": [
            "<class 'pandas.core.frame.DataFrame'>\n",
            "RangeIndex: 4019 entries, 0 to 4018\n",
            "Data columns (total 7 columns):\n",
            " #   Column  Non-Null Count  Dtype  \n",
            "---  ------  --------------  -----  \n",
            " 0   Date    4019 non-null   object \n",
            " 1   Price   4019 non-null   float64\n",
            " 2   Open    4019 non-null   float64\n",
            " 3   High    4019 non-null   float64\n",
            " 4   Low     4019 non-null   float64\n",
            " 5   Vol.    4019 non-null   int64  \n",
            " 6   Change  4019 non-null   float64\n",
            "dtypes: float64(5), int64(1), object(1)\n",
            "memory usage: 219.9+ KB\n"
          ]
        }
      ],
      "source": [
        "df = pd.read_csv('Bitcoin Historical Data.csv')\n",
        "df = df.dropna() # Drop missing values\n",
        "df = df.reset_index(drop=True) # Reset the index\n",
        "df.info()"
      ]
    },
    {
      "cell_type": "code",
      "execution_count": null,
      "id": "78213d7f-5ebd-477c-8c9f-dd687215ad16",
      "metadata": {
        "id": "78213d7f-5ebd-477c-8c9f-dd687215ad16"
      },
      "outputs": [],
      "source": [
        "df['Date'] = pd.to_datetime(df['Date'])\n",
        "\n",
        "# Extract year and day of year\n",
        "df['Year'] = df['Date'].dt.year\n",
        "df['DayOfYear'] = df['Date'].dt.day\n",
        "\n",
        "# Convert to float (year + day of year / 365)\n",
        "df['Date'] = df['Year'] + df['DayOfYear'] / 365"
      ]
    },
    {
      "cell_type": "code",
      "execution_count": null,
      "id": "93a2f47a-e1c7-444b-9f4f-bc5067ed1f06",
      "metadata": {
        "id": "93a2f47a-e1c7-444b-9f4f-bc5067ed1f06"
      },
      "outputs": [],
      "source": [
        "# 3. Scaler data\n",
        "scaler = MinMaxScaler(feature_range=(0, 1))\n",
        "df1 = scaler.fit_transform(np.array(df).reshape(-1, 1))"
      ]
    },
    {
      "cell_type": "code",
      "execution_count": null,
      "id": "6921757c-e27b-46fb-8589-5e5fb4e34e47",
      "metadata": {
        "id": "6921757c-e27b-46fb-8589-5e5fb4e34e47"
      },
      "outputs": [],
      "source": [
        "# 4. Chia train và test theo tỷ lệ 60-40\n",
        "train_size = int(0.8 * len(df1))\n",
        "test_size = len(df1) - train_size\n",
        "\n",
        "train_data = df1[:train_size]\n",
        "test_data = df1[train_size:]"
      ]
    },
    {
      "cell_type": "code",
      "execution_count": null,
      "id": "291cca1d-7959-458a-af7f-44bdab72995e",
      "metadata": {
        "id": "291cca1d-7959-458a-af7f-44bdab72995e"
      },
      "outputs": [],
      "source": [
        "# 5. Hàm Create Dataset\n",
        "import numpy\n",
        "\n",
        "# convert an array of values into a dataset matrix\n",
        "def create_dataset(dataset, time_step=1):\n",
        "    dataX, dataY = [], []\n",
        "    for i in range(len(dataset) - time_step - 1):\n",
        "        a = dataset[i:(i + time_step), 0]  # i=0, X=0,1,2,3-----99   Y=100\n",
        "        dataX.append(a)\n",
        "        dataY.append(dataset[i + time_step, 0])\n",
        "    return np.array(dataX), np.array(dataY)"
      ]
    },
    {
      "cell_type": "code",
      "execution_count": null,
      "id": "5fcf019f-a6b1-4519-b62e-84112e9c276d",
      "metadata": {
        "id": "5fcf019f-a6b1-4519-b62e-84112e9c276d"
      },
      "outputs": [],
      "source": [
        "# 6. Reshape into X=t,t+1,t+2..t+99 and Y=t+100\n",
        "time_step = 100\n",
        "X_train, y_train = create_dataset(train_data, time_step)\n",
        "X_test, y_test = create_dataset(test_data, time_step)"
      ]
    },
    {
      "cell_type": "code",
      "execution_count": null,
      "id": "b200b51a-394f-41b6-8911-fc2b96148b6f",
      "metadata": {
        "id": "b200b51a-394f-41b6-8911-fc2b96148b6f"
      },
      "outputs": [],
      "source": [
        "# 7. Reshape input to be [samples, time steps, features] which is required for LSTM\n",
        "X_train = X_train.reshape(X_train.shape[0], X_train.shape[1], 1)\n",
        "X_test = X_test.reshape(X_test.shape[0], X_test.shape[1], 1)"
      ]
    },
    {
      "cell_type": "code",
      "execution_count": null,
      "id": "e43326df-918d-4e82-b414-2f7a41db4ba7",
      "metadata": {
        "id": "e43326df-918d-4e82-b414-2f7a41db4ba7"
      },
      "outputs": [],
      "source": [
        "# 8. Define GRU Model\n",
        "model = Sequential()\n",
        "model.add(GRU(64, input_shape=(time_step, 1)))\n",
        "model.add(Dense(1))\n",
        "model.add(Dense(1))\n",
        "\n",
        "model.compile(optimizer='adam', loss='mean_squared_error')"
      ]
    },
    {
      "cell_type": "code",
      "execution_count": null,
      "id": "ac5112fb-fa71-435a-8322-0452f0f75428",
      "metadata": {
        "colab": {
          "base_uri": "https://localhost:8080/"
        },
        "id": "ac5112fb-fa71-435a-8322-0452f0f75428",
        "outputId": "142f78ef-7ab8-4aa8-e7df-77c6988438de"
      },
      "outputs": [
        {
          "output_type": "stream",
          "name": "stdout",
          "text": [
            "Epoch 1/100\n",
            "451/451 [==============================] - 25s 52ms/step - loss: 1.1579e-07\n",
            "Epoch 2/100\n",
            "451/451 [==============================] - 20s 44ms/step - loss: 1.0363e-08\n",
            "Epoch 3/100\n",
            "451/451 [==============================] - 20s 45ms/step - loss: 1.2523e-08\n",
            "Epoch 4/100\n",
            "451/451 [==============================] - 19s 43ms/step - loss: 1.7756e-08\n",
            "Epoch 5/100\n",
            "451/451 [==============================] - 21s 48ms/step - loss: 1.5827e-08\n",
            "Epoch 6/100\n",
            "451/451 [==============================] - 20s 45ms/step - loss: 1.6954e-08\n",
            "Epoch 7/100\n",
            "451/451 [==============================] - 22s 48ms/step - loss: 1.2013e-08\n",
            "Epoch 8/100\n",
            "451/451 [==============================] - 23s 51ms/step - loss: 1.2760e-08\n",
            "Epoch 9/100\n",
            "451/451 [==============================] - 21s 47ms/step - loss: 1.0866e-08\n",
            "Epoch 10/100\n",
            "451/451 [==============================] - 23s 51ms/step - loss: 1.1468e-08\n",
            "Epoch 11/100\n",
            "451/451 [==============================] - 23s 50ms/step - loss: 1.0237e-08\n",
            "Epoch 12/100\n",
            "451/451 [==============================] - 23s 51ms/step - loss: 1.0410e-08\n",
            "Epoch 13/100\n",
            "451/451 [==============================] - 22s 50ms/step - loss: 1.0194e-08\n",
            "Epoch 14/100\n",
            "451/451 [==============================] - 23s 51ms/step - loss: 9.5430e-09\n",
            "Epoch 15/100\n",
            "451/451 [==============================] - 22s 49ms/step - loss: 1.0137e-08\n",
            "Epoch 16/100\n",
            "451/451 [==============================] - 21s 46ms/step - loss: 9.9728e-09\n",
            "Epoch 17/100\n",
            "451/451 [==============================] - 23s 51ms/step - loss: 9.7052e-09\n",
            "Epoch 18/100\n",
            "451/451 [==============================] - 22s 50ms/step - loss: 9.4202e-09\n",
            "Epoch 19/100\n",
            "451/451 [==============================] - 22s 49ms/step - loss: 1.0119e-08\n",
            "Epoch 20/100\n",
            "451/451 [==============================] - 23s 50ms/step - loss: 9.9156e-09\n",
            "Epoch 21/100\n",
            "451/451 [==============================] - 22s 48ms/step - loss: 1.0011e-08\n",
            "Epoch 22/100\n",
            "451/451 [==============================] - 21s 47ms/step - loss: 8.9081e-09\n",
            "Epoch 23/100\n",
            "451/451 [==============================] - 21s 47ms/step - loss: 9.4729e-09\n",
            "Epoch 24/100\n",
            "451/451 [==============================] - 20s 43ms/step - loss: 9.9263e-09\n",
            "Epoch 25/100\n",
            "451/451 [==============================] - 22s 49ms/step - loss: 9.5273e-09\n",
            "Epoch 26/100\n",
            "451/451 [==============================] - 20s 45ms/step - loss: 9.5589e-09\n",
            "Epoch 27/100\n",
            "451/451 [==============================] - 23s 50ms/step - loss: 9.3127e-09\n",
            "Epoch 28/100\n",
            "451/451 [==============================] - 23s 51ms/step - loss: 1.0205e-08\n",
            "Epoch 29/100\n",
            "451/451 [==============================] - 22s 48ms/step - loss: 1.0306e-08\n",
            "Epoch 30/100\n",
            "451/451 [==============================] - 22s 50ms/step - loss: 9.4220e-09\n",
            "Epoch 31/100\n",
            "451/451 [==============================] - 22s 49ms/step - loss: 9.6132e-09\n",
            "Epoch 32/100\n",
            "451/451 [==============================] - 21s 46ms/step - loss: 9.8369e-09\n",
            "Epoch 33/100\n",
            "451/451 [==============================] - 21s 47ms/step - loss: 9.9768e-09\n",
            "Epoch 34/100\n",
            "451/451 [==============================] - 20s 44ms/step - loss: 9.4531e-09\n",
            "Epoch 35/100\n",
            "451/451 [==============================] - 21s 47ms/step - loss: 9.5712e-09\n",
            "Epoch 36/100\n",
            "451/451 [==============================] - 20s 44ms/step - loss: 1.0230e-08\n",
            "Epoch 37/100\n",
            "451/451 [==============================] - 21s 47ms/step - loss: 9.5590e-09\n",
            "Epoch 38/100\n",
            "451/451 [==============================] - 23s 51ms/step - loss: 9.5498e-09\n",
            "Epoch 39/100\n",
            "451/451 [==============================] - 20s 44ms/step - loss: 1.0203e-08\n",
            "Epoch 40/100\n",
            "451/451 [==============================] - 22s 48ms/step - loss: 9.4396e-09\n",
            "Epoch 41/100\n",
            "451/451 [==============================] - 20s 44ms/step - loss: 1.0337e-08\n",
            "Epoch 42/100\n",
            "451/451 [==============================] - 21s 47ms/step - loss: 9.3982e-09\n",
            "Epoch 43/100\n",
            "451/451 [==============================] - 20s 45ms/step - loss: 9.7106e-09\n",
            "Epoch 44/100\n",
            "451/451 [==============================] - 22s 49ms/step - loss: 9.6535e-09\n",
            "Epoch 45/100\n",
            "451/451 [==============================] - 21s 47ms/step - loss: 9.2255e-09\n",
            "Epoch 46/100\n",
            "451/451 [==============================] - 20s 44ms/step - loss: 9.8636e-09\n",
            "Epoch 47/100\n",
            "451/451 [==============================] - 21s 48ms/step - loss: 9.4734e-09\n",
            "Epoch 48/100\n",
            "451/451 [==============================] - 20s 44ms/step - loss: 9.0034e-09\n",
            "Epoch 49/100\n",
            "451/451 [==============================] - 21s 46ms/step - loss: 1.0032e-08\n",
            "Epoch 50/100\n",
            "451/451 [==============================] - 21s 47ms/step - loss: 9.7749e-09\n",
            "Epoch 51/100\n",
            "451/451 [==============================] - 21s 46ms/step - loss: 1.0492e-08\n",
            "Epoch 52/100\n",
            "451/451 [==============================] - 21s 47ms/step - loss: 9.3426e-09\n",
            "Epoch 53/100\n",
            "451/451 [==============================] - 20s 44ms/step - loss: 1.0374e-08\n",
            "Epoch 54/100\n",
            "451/451 [==============================] - 21s 47ms/step - loss: 9.6624e-09\n",
            "Epoch 55/100\n",
            "451/451 [==============================] - 20s 45ms/step - loss: 9.9926e-09\n",
            "Epoch 56/100\n",
            "451/451 [==============================] - 21s 47ms/step - loss: 9.8067e-09\n",
            "Epoch 57/100\n",
            "451/451 [==============================] - 20s 44ms/step - loss: 9.2041e-09\n",
            "Epoch 58/100\n",
            "451/451 [==============================] - 21s 47ms/step - loss: 9.8860e-09\n",
            "Epoch 59/100\n",
            "451/451 [==============================] - 20s 44ms/step - loss: 8.9902e-09\n",
            "Epoch 60/100\n",
            "451/451 [==============================] - 21s 46ms/step - loss: 1.0159e-08\n",
            "Epoch 61/100\n",
            "451/451 [==============================] - 20s 45ms/step - loss: 9.1551e-09\n",
            "Epoch 62/100\n",
            "451/451 [==============================] - 21s 46ms/step - loss: 9.7917e-09\n",
            "Epoch 63/100\n",
            "451/451 [==============================] - 22s 49ms/step - loss: 1.0349e-08\n",
            "Epoch 64/100\n",
            "451/451 [==============================] - 20s 45ms/step - loss: 9.9843e-09\n",
            "Epoch 65/100\n",
            "451/451 [==============================] - 21s 46ms/step - loss: 1.0538e-08\n",
            "Epoch 66/100\n",
            "451/451 [==============================] - 20s 45ms/step - loss: 9.7854e-09\n",
            "Epoch 67/100\n",
            "451/451 [==============================] - 21s 47ms/step - loss: 9.4101e-09\n",
            "Epoch 68/100\n",
            "451/451 [==============================] - 20s 44ms/step - loss: 9.8678e-09\n",
            "Epoch 69/100\n",
            "451/451 [==============================] - 21s 47ms/step - loss: 9.6931e-09\n",
            "Epoch 70/100\n",
            "451/451 [==============================] - 20s 44ms/step - loss: 9.6253e-09\n",
            "Epoch 71/100\n",
            "451/451 [==============================] - 21s 47ms/step - loss: 9.5443e-09\n",
            "Epoch 72/100\n",
            "451/451 [==============================] - 20s 44ms/step - loss: 9.7330e-09\n",
            "Epoch 73/100\n",
            "451/451 [==============================] - 21s 47ms/step - loss: 9.2889e-09\n",
            "Epoch 74/100\n",
            "451/451 [==============================] - 21s 46ms/step - loss: 9.5613e-09\n",
            "Epoch 75/100\n",
            "451/451 [==============================] - 22s 49ms/step - loss: 1.0185e-08\n",
            "Epoch 76/100\n",
            "451/451 [==============================] - 21s 47ms/step - loss: 9.4090e-09\n",
            "Epoch 77/100\n",
            "451/451 [==============================] - 20s 43ms/step - loss: 9.6103e-09\n",
            "Epoch 78/100\n",
            "451/451 [==============================] - 21s 46ms/step - loss: 1.0189e-08\n",
            "Epoch 79/100\n",
            "451/451 [==============================] - 20s 44ms/step - loss: 9.6032e-09\n",
            "Epoch 80/100\n",
            "451/451 [==============================] - 21s 47ms/step - loss: 9.8910e-09\n",
            "Epoch 81/100\n",
            "451/451 [==============================] - 20s 44ms/step - loss: 1.0317e-08\n",
            "Epoch 82/100\n",
            "451/451 [==============================] - 21s 46ms/step - loss: 9.6205e-09\n",
            "Epoch 83/100\n",
            "451/451 [==============================] - 20s 43ms/step - loss: 9.4400e-09\n",
            "Epoch 84/100\n",
            "451/451 [==============================] - 21s 47ms/step - loss: 9.5077e-09\n",
            "Epoch 85/100\n",
            "451/451 [==============================] - 20s 44ms/step - loss: 9.6006e-09\n",
            "Epoch 86/100\n",
            "451/451 [==============================] - 20s 45ms/step - loss: 9.5363e-09\n",
            "Epoch 87/100\n",
            "451/451 [==============================] - 21s 46ms/step - loss: 1.0400e-08\n",
            "Epoch 88/100\n",
            "451/451 [==============================] - 22s 48ms/step - loss: 9.4133e-09\n",
            "Epoch 89/100\n",
            "451/451 [==============================] - 21s 47ms/step - loss: 1.0144e-08\n",
            "Epoch 90/100\n",
            "451/451 [==============================] - 20s 44ms/step - loss: 9.6786e-09\n",
            "Epoch 91/100\n",
            "451/451 [==============================] - 21s 47ms/step - loss: 9.5654e-09\n",
            "Epoch 92/100\n",
            "451/451 [==============================] - 20s 44ms/step - loss: 9.5529e-09\n",
            "Epoch 93/100\n",
            "451/451 [==============================] - 21s 47ms/step - loss: 9.8615e-09\n",
            "Epoch 94/100\n",
            "451/451 [==============================] - 21s 47ms/step - loss: 9.4253e-09\n",
            "Epoch 95/100\n",
            "451/451 [==============================] - 20s 45ms/step - loss: 9.4808e-09\n",
            "Epoch 96/100\n",
            "451/451 [==============================] - 21s 47ms/step - loss: 9.3545e-09\n",
            "Epoch 97/100\n",
            "451/451 [==============================] - 20s 44ms/step - loss: 9.6164e-09\n",
            "Epoch 98/100\n",
            "451/451 [==============================] - 21s 47ms/step - loss: 1.1073e-08\n",
            "Epoch 99/100\n",
            "451/451 [==============================] - 20s 44ms/step - loss: 9.3345e-09\n",
            "Epoch 100/100\n",
            "451/451 [==============================] - 23s 51ms/step - loss: 9.9388e-09\n"
          ]
        },
        {
          "output_type": "execute_result",
          "data": {
            "text/plain": [
              "<keras.src.callbacks.History at 0x7cf382f0d510>"
            ]
          },
          "metadata": {},
          "execution_count": 29
        }
      ],
      "source": [
        "# 9. Fit mô hình với dữ liệu train\n",
        "model.fit(X_train, y_train, epochs=100, batch_size=64, verbose=1)"
      ]
    },
    {
      "cell_type": "code",
      "execution_count": null,
      "id": "4e7f491b-9028-45d3-b252-092fe2853b1a",
      "metadata": {
        "colab": {
          "base_uri": "https://localhost:8080/"
        },
        "id": "4e7f491b-9028-45d3-b252-092fe2853b1a",
        "outputId": "5a1a50f6-0174-4858-e1bd-0e68d02ea3b2"
      },
      "outputs": [
        {
          "output_type": "stream",
          "name": "stdout",
          "text": [
            "223/223 [==============================] - 2s 9ms/step\n"
          ]
        }
      ],
      "source": [
        "# 10. Dự báo dữ liệu test\n",
        "y_pred = model.predict(X_test)\n",
        "\n",
        "# 11. Chuẩn hóa dữ liệu y_pred\n",
        "y_pred = scaler.inverse_transform(y_pred.reshape(-1, 1))\n",
        "y_test = scaler.inverse_transform(y_test.reshape(-1, 1))\n"
      ]
    },
    {
      "cell_type": "code",
      "execution_count": null,
      "id": "aa61392d-08fa-4ac3-813d-0b7f46335601",
      "metadata": {
        "colab": {
          "base_uri": "https://localhost:8080/"
        },
        "id": "aa61392d-08fa-4ac3-813d-0b7f46335601",
        "outputId": "72d92881-1e5b-4c37-9385-90197ddd094f"
      },
      "outputs": [
        {
          "output_type": "stream",
          "name": "stdout",
          "text": [
            "Testing RMSE: 130092388.53979659\n",
            "Testing MAPE: inf\n",
            "Testing MAE: 9068954.59094855\n"
          ]
        },
        {
          "output_type": "stream",
          "name": "stderr",
          "text": [
            "<ipython-input-31-b1e427629f97>:7: RuntimeWarning: divide by zero encountered in divide\n",
            "  test_mape = np.mean(np.abs((y_test - y_pred) / y_test)) * 100\n"
          ]
        }
      ],
      "source": [
        "# 12. Đánh giá độ chính xác thuật toán\n",
        "# RMSE\n",
        "test_rmse = np.sqrt(mean_squared_error(y_test, y_pred))\n",
        "print('Testing RMSE:', test_rmse)\n",
        "\n",
        "# MAPE\n",
        "test_mape = np.mean(np.abs((y_test - y_pred) / y_test)) * 100\n",
        "print('Testing MAPE:', test_mape)\n",
        "\n",
        "# MAE\n",
        "test_mae = np.mean(np.abs(y_pred - y_test))\n",
        "print('Testing MAE:', test_mae)\n"
      ]
    },
    {
      "cell_type": "code",
      "execution_count": null,
      "id": "bcd21485-00a4-47f6-917b-e5196a61b3cf",
      "metadata": {
        "id": "bcd21485-00a4-47f6-917b-e5196a61b3cf"
      },
      "outputs": [],
      "source": [
        "# 13. Dự báo 30 ngày tiếp theo\n",
        "x_input = test_data[-time_step:].reshape(1, -1, 1)\n",
        "\n",
        "temp_input = list(x_input[0])\n",
        "temp_input = temp_input[0].tolist()\n",
        "\n",
        "lst_output = []\n",
        "n_steps = time_step\n",
        "i = 0\n",
        "\n",
        "while i < 30:\n",
        "    if len(temp_input) > time_step:\n",
        "        x_input = np.array(temp_input[1:])\n",
        "        x_input = x_input.reshape(1, -1, 1)\n",
        "        yhat = model.predict(x_input, verbose=0)\n",
        "        temp_input.extend(yhat[0].tolist())\n",
        "        temp_input = temp_input[1:]\n",
        "        lst_output.extend(yhat.tolist())\n",
        "        i = i + 1\n",
        "    else:\n",
        "        x_input = x_input.reshape(1, -1, 1)\n",
        "        yhat = model.predict(x_input, verbose=0)\n",
        "        temp_input.extend(yhat[0].tolist())\n",
        "        lst_output.extend(yhat.tolist())\n",
        "        i = i + 1"
      ]
    },
    {
      "cell_type": "code",
      "execution_count": null,
      "id": "451af882-9faf-41da-a258-8e8a0c1f9684",
      "metadata": {
        "colab": {
          "base_uri": "https://localhost:8080/",
          "height": 768
        },
        "id": "451af882-9faf-41da-a258-8e8a0c1f9684",
        "outputId": "32baf1fc-7237-49a4-f5db-f1120d27965e"
      },
      "outputs": [
        {
          "output_type": "display_data",
          "data": {
            "text/plain": [
              "<Figure size 1600x900 with 1 Axes>"
            ],
            "image/png": "[encoded data removed]"
          },
          "metadata": {}
        }
      ],
      "source": [
        "# 14. Vẽ hình\n",
        "plt.figure(figsize=(16, 9))\n",
        "\n",
        "train_data_index = pd.RangeIndex(start=0, stop=train_size, step=1)\n",
        "plt.plot(scaler.inverse_transform(train_data))\n",
        "test_data_index = pd.RangeIndex(start=train_size, stop=train_size + test_size, step=1)\n",
        "plt.plot(test_data_index, scaler.inverse_transform(test_data))\n",
        "\n",
        "test_data_index = pd.RangeIndex(start=train_size+101, stop=train_size+test_size, step=1)\n",
        "plt.plot(test_data_index,(y_pred))\n",
        "\n",
        "predict_data_index = pd.RangeIndex(start=train_size + test_size, stop=train_size + test_size + 30, step=1)\n",
        "plt.plot(predict_data_index, scaler.inverse_transform(lst_output))\n",
        "\n",
        "plt.legend(['Train', 'Test', 'Test Predict', 'Predict30days'])\n",
        "plt.show()"
      ]
    }
  ],
  "metadata": {
    "kernelspec": {
      "display_name": "Python 3 (ipykernel)",
      "language": "python",
      "name": "python3"
    },
    "language_info": {
      "codemirror_mode": {
        "name": "ipython",
        "version": 3
      },
      "file_extension": ".py",
      "mimetype": "text/x-python",
      "name": "python",
      "nbconvert_exporter": "python",
      "pygments_lexer": "ipython3",
      "version": "3.11.5"
    },
    "colab": {
      "provenance": []
    }
  },
  "nbformat": 4,
  "nbformat_minor": 5
}